{
  "nbformat": 4,
  "nbformat_minor": 0,
  "metadata": {
    "colab": {
      "private_outputs": true,
      "provenance": [],
      "authorship_tag": "ABX9TyOTZ+1o015GTlFsGdeJ/whT"
    },
    "kernelspec": {
      "name": "python3",
      "display_name": "Python 3"
    },
    "language_info": {
      "name": "python"
    }
  },
  "cells": [
    {
      "cell_type": "code",
      "execution_count": null,
      "metadata": {
        "id": "dkEMzS2-Io0w"
      },
      "outputs": [],
      "source": [
        "n=int(input())\n",
        "if n%2==0:\n",
        "  width=length=n//2\n",
        "  print((width+1)**2)\n",
        "else:\n",
        "  length,width=(n//2)+1,n//2\n",
        "  print((width+1)*(length+1))"
      ]
    },
    {
      "cell_type": "code",
      "source": [],
      "metadata": {
        "id": "HnVOHVX2PHV_"
      },
      "execution_count": null,
      "outputs": []
    }
  ]
}